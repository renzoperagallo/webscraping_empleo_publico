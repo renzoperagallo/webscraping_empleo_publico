{
 "cells": [
  {
   "cell_type": "markdown",
   "metadata": {},
   "source": [
    "#  Webscrapping empleo público"
   ]
  },
  {
   "cell_type": "code",
   "execution_count": 51,
   "metadata": {},
   "outputs": [
    {
     "ename": "ModuleNotFoundError",
     "evalue": "No module named 'readlines'",
     "output_type": "error",
     "traceback": [
      "\u001b[1;31m---------------------------------------------------------------------------\u001b[0m",
      "\u001b[1;31mModuleNotFoundError\u001b[0m                       Traceback (most recent call last)",
      "\u001b[1;32mc:\\Users\\renzo\\OneDrive\\Github\\webscraping_empleo_publico\\Test_html.ipynb Cell 3\u001b[0m line \u001b[0;36m4\n\u001b[0;32m      <a href='vscode-notebook-cell:/c%3A/Users/renzo/OneDrive/Github/webscraping_empleo_publico/Test_html.ipynb#W2sZmlsZQ%3D%3D?line=1'>2</a>\u001b[0m \u001b[39mfrom\u001b[39;00m \u001b[39mbs4\u001b[39;00m \u001b[39mimport\u001b[39;00m BeautifulSoup\n\u001b[0;32m      <a href='vscode-notebook-cell:/c%3A/Users/renzo/OneDrive/Github/webscraping_empleo_publico/Test_html.ipynb#W2sZmlsZQ%3D%3D?line=2'>3</a>\u001b[0m \u001b[39mimport\u001b[39;00m \u001b[39mpandas\u001b[39;00m \u001b[39mas\u001b[39;00m \u001b[39mpd\u001b[39;00m\n\u001b[1;32m----> <a href='vscode-notebook-cell:/c%3A/Users/renzo/OneDrive/Github/webscraping_empleo_publico/Test_html.ipynb#W2sZmlsZQ%3D%3D?line=3'>4</a>\u001b[0m \u001b[39mimport\u001b[39;00m \u001b[39mreadlines\u001b[39;00m \u001b[39mas\u001b[39;00m \u001b[39mreadline\u001b[39;00m\n",
      "\u001b[1;31mModuleNotFoundError\u001b[0m: No module named 'readlines'"
     ]
    }
   ],
   "source": [
    "# Librerias\n",
    "from bs4 import BeautifulSoup\n",
    "import pandas as pd"
   ]
  },
  {
   "cell_type": "code",
   "execution_count": 3,
   "metadata": {},
   "outputs": [],
   "source": [
    "# Abrir archivo html\n",
    "with open(\"input\\test.html\", \"r\", encoding=\"utf-8\") as file:\n",
    "    soup = BeautifulSoup(file, \"html.parser\")"
   ]
  },
  {
   "cell_type": "code",
   "execution_count": 4,
   "metadata": {},
   "outputs": [],
   "source": [
    "# Identificar los elementos que tienen la etiqueta class 'caja row primerEmpleo'\n",
    "divs = soup.find_all(\"div\", {\"class\": \"caja row primerEmpleo\"})"
   ]
  },
  {
   "cell_type": "code",
   "execution_count": 6,
   "metadata": {},
   "outputs": [],
   "source": [
    "# Extraer la data\n",
    "data = []\n",
    "for div in divs:\n",
    "    # Extract job title\n",
    "    job_title = div.find(\"div\", {\"id\": \"bx_titulos\"})\n",
    "    job_title = job_title.get_text(strip=True) if job_title else None\n",
    "\n",
    "    # Extract organization\n",
    "    organization = div.find(\"div\", {\"id\": \"bx_resumen\"}).find(\"strong\")\n",
    "    organization = organization.get_text(strip=True) if organization else None\n",
    "\n",
    "    # Extract job description\n",
    "    description = div.find(\"div\", {\"id\": \"bx_resumen\"})\n",
    "    if description:\n",
    "        # Remove strong tag to isolate the description\n",
    "        if description.strong:\n",
    "            description.strong.decompose()\n",
    "        description = description.get_text(strip=True, separator=\"\\n\")\n",
    "\n",
    "    # Extract application deadline\n",
    "    deadline = div.find(\"div\", {\"id\": \"bx_resumen\"}).find(\"em\")\n",
    "    deadline = deadline.get_text(strip=True) if deadline else None\n",
    "\n",
    "    # Extract link to job posting\n",
    "    link = div.find(\"a\", {\"class\": \"btnverficha\"})\n",
    "    link = link['href'] if link else None\n",
    "\n",
    "    # Append extracted data to the list\n",
    "    data.append({\n",
    "        \"Titulo\": job_title,\n",
    "        \"Organizacion\": organization,\n",
    "        \"Descripcion\": description,\n",
    "        \"Deadline\": deadline,\n",
    "        \"Link\": link\n",
    "    })\n"
   ]
  },
  {
   "cell_type": "code",
   "execution_count": 10,
   "metadata": {},
   "outputs": [],
   "source": [
    "# Transformar en un pd.df\n",
    "df = pd.DataFrame(data)"
   ]
  },
  {
   "cell_type": "code",
   "execution_count": 37,
   "metadata": {},
   "outputs": [
    {
     "data": {
      "text/html": [
       "<div>\n",
       "<style scoped>\n",
       "    .dataframe tbody tr th:only-of-type {\n",
       "        vertical-align: middle;\n",
       "    }\n",
       "\n",
       "    .dataframe tbody tr th {\n",
       "        vertical-align: top;\n",
       "    }\n",
       "\n",
       "    .dataframe thead th {\n",
       "        text-align: right;\n",
       "    }\n",
       "</style>\n",
       "<table border=\"1\" class=\"dataframe\">\n",
       "  <thead>\n",
       "    <tr style=\"text-align: right;\">\n",
       "      <th></th>\n",
       "      <th>Job Title</th>\n",
       "      <th>Organization</th>\n",
       "      <th>Description</th>\n",
       "      <th>Deadline</th>\n",
       "      <th>Link</th>\n",
       "    </tr>\n",
       "  </thead>\n",
       "  <tbody>\n",
       "    <tr>\n",
       "      <th>0</th>\n",
       "      <td>01 CARGO MÉDICO CIRUJANO 11 HORAS SEMANALES, C...</td>\n",
       "      <td>Servicio de Salud Arica y Parinacota</td>\n",
       "      <td>Plazos de Postulación 07/12/2023 - 14/12/2023</td>\n",
       "      <td>Plazos de Postulación 07/12/2023 - 14/12/2023</td>\n",
       "      <td>convFicha.aspx?i=107315&amp;c=0&amp;j=0&amp;tipo=avisopiza...</td>\n",
       "    </tr>\n",
       "    <tr>\n",
       "      <th>1</th>\n",
       "      <td>PSICÓLOGOA UNIDAD PSICOLOGÍA CLÍNICA REMPLAZO</td>\n",
       "      <td>Centro Oncológico del Norte</td>\n",
       "      <td>Brindar atención integral y psicológica, con e...</td>\n",
       "      <td>Plazos de Postulación 07/12/2023 - 15/12/2023</td>\n",
       "      <td>convFicha.aspx?i=107332&amp;c=0&amp;j=0&amp;tipo=avisopiza...</td>\n",
       "    </tr>\n",
       "    <tr>\n",
       "      <th>2</th>\n",
       "      <td>ABOGADO (PRESENCIAL)</td>\n",
       "      <td>Centro de Formación Técnica de la Región de At...</td>\n",
       "      <td>Le corresponderá asesorar y ejecutar el princi...</td>\n",
       "      <td>Plazos de Postulación 07/12/2023 - 15/12/2023</td>\n",
       "      <td>convFicha.aspx?i=107341&amp;c=0&amp;j=0&amp;tipo=avisopiza...</td>\n",
       "    </tr>\n",
       "    <tr>\n",
       "      <th>3</th>\n",
       "      <td>ENFERMEROA DE CONTINUIDAD PARA UNIDAD DE EMERG...</td>\n",
       "      <td>Hospital Félix Bulnes Cerda</td>\n",
       "      <td>Optimizar la gestión administrativa de la Unid...</td>\n",
       "      <td>Plazos de Postulación 07/12/2023 - 15/12/2023</td>\n",
       "      <td>convFicha.aspx?i=107358&amp;c=0&amp;j=0&amp;tipo=avisopiza...</td>\n",
       "    </tr>\n",
       "    <tr>\n",
       "      <th>4</th>\n",
       "      <td>APOYO DE PROTECCIÓN ESPECIALIZADA - RESIDENCIA...</td>\n",
       "      <td>Dirección Nacional MEJOR NIÑEZ</td>\n",
       "      <td>Acompañar y ejecutar las actividades socio edu...</td>\n",
       "      <td>Plazos de Postulación 07/12/2023 - 28/12/2023</td>\n",
       "      <td>convFicha.aspx?i=107393&amp;c=0&amp;j=0&amp;tipo=avisopiza...</td>\n",
       "    </tr>\n",
       "    <tr>\n",
       "      <th>...</th>\n",
       "      <td>...</td>\n",
       "      <td>...</td>\n",
       "      <td>...</td>\n",
       "      <td>...</td>\n",
       "      <td>...</td>\n",
       "    </tr>\n",
       "    <tr>\n",
       "      <th>95</th>\n",
       "      <td>ANALISTA DE SEGURIDAD DE INSTALACIONES RADIACT...</td>\n",
       "      <td>Comisión Chilena de Energía Nuclear</td>\n",
       "      <td>Realizar las fiscalizaciones y las evaluacione...</td>\n",
       "      <td>Plazos de Postulación 04/12/2023 - 12/12/2023</td>\n",
       "      <td>convpostularavisoTrabajo.aspx?i=106980&amp;c=0&amp;j=0...</td>\n",
       "    </tr>\n",
       "    <tr>\n",
       "      <th>96</th>\n",
       "      <td>ANALISTA PARA EL DEPARTAMENTO DE PENSIONES (CO...</td>\n",
       "      <td>Dirección de Previsión de Carabineros de Chile</td>\n",
       "      <td>Apoyar en los procesos y procedimientos asocia...</td>\n",
       "      <td>Plazos de Postulación 04/12/2023 - 12/12/2023</td>\n",
       "      <td>convpostularavisoTrabajo.aspx?i=107042&amp;c=0&amp;j=0...</td>\n",
       "    </tr>\n",
       "    <tr>\n",
       "      <th>97</th>\n",
       "      <td>PROFESIONAL ENCARGADO DE PREVENCIÓN DE RIESGO ...</td>\n",
       "      <td>Instituto Nacional de Rehabilitación Pedro Agu...</td>\n",
       "      <td>Cargo que tiene la responsabilidad de liderar ...</td>\n",
       "      <td>Plazos de Postulación 04/12/2023 - 11/12/2023</td>\n",
       "      <td>convpostularavisoTrabajo.aspx?i=107045&amp;c=0&amp;j=0...</td>\n",
       "    </tr>\n",
       "    <tr>\n",
       "      <th>98</th>\n",
       "      <td>PSICÓLOGO(A) LABORAL PARA UNIDAD DE RECLUTAMIE...</td>\n",
       "      <td>Hospital Base San José de Osorno</td>\n",
       "      <td>Aplicar técnicas psicológicas establecidas del...</td>\n",
       "      <td>Plazos de Postulación 04/12/2023 - 18/12/2023</td>\n",
       "      <td>convpostularavisoTrabajo.aspx?i=107048&amp;c=0&amp;j=0...</td>\n",
       "    </tr>\n",
       "    <tr>\n",
       "      <th>99</th>\n",
       "      <td>ABOGADO(A) AUXILIAR CENTRO DE ATENCIÓN A VÍCTI...</td>\n",
       "      <td>Corporación de Asistencia Judicial de la Regió...</td>\n",
       "      <td>Proporcionar orientación y asesoría jurídica a...</td>\n",
       "      <td>Plazos de Postulación 04/12/2023 - 11/12/2023</td>\n",
       "      <td>convpostularavisoTrabajo.aspx?i=107065&amp;c=0&amp;j=0...</td>\n",
       "    </tr>\n",
       "  </tbody>\n",
       "</table>\n",
       "<p>100 rows × 5 columns</p>\n",
       "</div>"
      ],
      "text/plain": [
       "                                            Job Title  \\\n",
       "0   01 CARGO MÉDICO CIRUJANO 11 HORAS SEMANALES, C...   \n",
       "1       PSICÓLOGOA UNIDAD PSICOLOGÍA CLÍNICA REMPLAZO   \n",
       "2                                ABOGADO (PRESENCIAL)   \n",
       "3   ENFERMEROA DE CONTINUIDAD PARA UNIDAD DE EMERG...   \n",
       "4   APOYO DE PROTECCIÓN ESPECIALIZADA - RESIDENCIA...   \n",
       "..                                                ...   \n",
       "95  ANALISTA DE SEGURIDAD DE INSTALACIONES RADIACT...   \n",
       "96  ANALISTA PARA EL DEPARTAMENTO DE PENSIONES (CO...   \n",
       "97  PROFESIONAL ENCARGADO DE PREVENCIÓN DE RIESGO ...   \n",
       "98  PSICÓLOGO(A) LABORAL PARA UNIDAD DE RECLUTAMIE...   \n",
       "99  ABOGADO(A) AUXILIAR CENTRO DE ATENCIÓN A VÍCTI...   \n",
       "\n",
       "                                         Organization  \\\n",
       "0                Servicio de Salud Arica y Parinacota   \n",
       "1                         Centro Oncológico del Norte   \n",
       "2   Centro de Formación Técnica de la Región de At...   \n",
       "3                         Hospital Félix Bulnes Cerda   \n",
       "4                      Dirección Nacional MEJOR NIÑEZ   \n",
       "..                                                ...   \n",
       "95                Comisión Chilena de Energía Nuclear   \n",
       "96     Dirección de Previsión de Carabineros de Chile   \n",
       "97  Instituto Nacional de Rehabilitación Pedro Agu...   \n",
       "98                   Hospital Base San José de Osorno   \n",
       "99  Corporación de Asistencia Judicial de la Regió...   \n",
       "\n",
       "                                          Description  \\\n",
       "0       Plazos de Postulación 07/12/2023 - 14/12/2023   \n",
       "1   Brindar atención integral y psicológica, con e...   \n",
       "2   Le corresponderá asesorar y ejecutar el princi...   \n",
       "3   Optimizar la gestión administrativa de la Unid...   \n",
       "4   Acompañar y ejecutar las actividades socio edu...   \n",
       "..                                                ...   \n",
       "95  Realizar las fiscalizaciones y las evaluacione...   \n",
       "96  Apoyar en los procesos y procedimientos asocia...   \n",
       "97  Cargo que tiene la responsabilidad de liderar ...   \n",
       "98  Aplicar técnicas psicológicas establecidas del...   \n",
       "99  Proporcionar orientación y asesoría jurídica a...   \n",
       "\n",
       "                                         Deadline  \\\n",
       "0   Plazos de Postulación 07/12/2023 - 14/12/2023   \n",
       "1   Plazos de Postulación 07/12/2023 - 15/12/2023   \n",
       "2   Plazos de Postulación 07/12/2023 - 15/12/2023   \n",
       "3   Plazos de Postulación 07/12/2023 - 15/12/2023   \n",
       "4   Plazos de Postulación 07/12/2023 - 28/12/2023   \n",
       "..                                            ...   \n",
       "95  Plazos de Postulación 04/12/2023 - 12/12/2023   \n",
       "96  Plazos de Postulación 04/12/2023 - 12/12/2023   \n",
       "97  Plazos de Postulación 04/12/2023 - 11/12/2023   \n",
       "98  Plazos de Postulación 04/12/2023 - 18/12/2023   \n",
       "99  Plazos de Postulación 04/12/2023 - 11/12/2023   \n",
       "\n",
       "                                                 Link  \n",
       "0   convFicha.aspx?i=107315&c=0&j=0&tipo=avisopiza...  \n",
       "1   convFicha.aspx?i=107332&c=0&j=0&tipo=avisopiza...  \n",
       "2   convFicha.aspx?i=107341&c=0&j=0&tipo=avisopiza...  \n",
       "3   convFicha.aspx?i=107358&c=0&j=0&tipo=avisopiza...  \n",
       "4   convFicha.aspx?i=107393&c=0&j=0&tipo=avisopiza...  \n",
       "..                                                ...  \n",
       "95  convpostularavisoTrabajo.aspx?i=106980&c=0&j=0...  \n",
       "96  convpostularavisoTrabajo.aspx?i=107042&c=0&j=0...  \n",
       "97  convpostularavisoTrabajo.aspx?i=107045&c=0&j=0...  \n",
       "98  convpostularavisoTrabajo.aspx?i=107048&c=0&j=0...  \n",
       "99  convpostularavisoTrabajo.aspx?i=107065&c=0&j=0...  \n",
       "\n",
       "[100 rows x 5 columns]"
      ]
     },
     "execution_count": 37,
     "metadata": {},
     "output_type": "execute_result"
    }
   ],
   "source": [
    "# Visualizar algunos casos\n",
    "df.head(100)"
   ]
  },
  {
   "cell_type": "code",
   "execution_count": 38,
   "metadata": {},
   "outputs": [],
   "source": [
    "# Crea el link completo e indica la fecha límite\n",
    "df['Link_completo'] = 'https://www.empleospublicos.cl/pub/convocatorias/' + df['Link']\n",
    "df['fecha_limite'] = df['Deadline'].str.slice(-10)"
   ]
  },
  {
   "cell_type": "code",
   "execution_count": 49,
   "metadata": {},
   "outputs": [],
   "source": [
    "# Exporta la convocatoria\n",
    "df.to_excel(\"./output/df_completo_prueba.xlsx\", index=False, engine='openpyxl')"
   ]
  },
  {
   "cell_type": "code",
   "execution_count": 77,
   "metadata": {},
   "outputs": [
    {
     "name": "stdout",
     "output_type": "stream",
     "text": [
      "['hospital', 'judicial', 'asistencial', 'salud', 'contabilidad', 'finanzas', 'primaria', 'smu']\n"
     ]
    }
   ],
   "source": [
    "# Definir el nombre del archivo de texto\n",
    "nombre_archivo = \"./input/exclusion_organizacion.txt\"\n",
    "\n",
    "# Inicializar una lista vacía para almacenar las palabras\n",
    "exclusion_organizacion = []\n",
    "\n",
    "# Abrir el archivo y leer cada línea\n",
    "with open(nombre_archivo, 'r') as archivo:\n",
    "    for linea in archivo:\n",
    "        # Añadir la palabra a la lista, eliminando espacios en blanco y saltos de línea\n",
    "        exclusion_organizacion.append(linea.strip())\n",
    "\n",
    "# Ahora 'palabras' es una lista que contiene todas las palabras del archivo\n",
    "print(exclusion_organizacion)"
   ]
  },
  {
   "cell_type": "code",
   "execution_count": 78,
   "metadata": {},
   "outputs": [
    {
     "name": "stdout",
     "output_type": "stream",
     "text": [
      "['abogado', 'enfermera', 'kinesiólogo', 'psicólogo', 'juridico', 'medico', 'profesor', 'medicos']\n"
     ]
    }
   ],
   "source": [
    "# Crear un vector con todos los textos para excluir del título de la oferta laboral. \n",
    "\n",
    "# Definir el nombre del archivo de texto\n",
    "nombre_archivo = \"./input/exclusion_profesiones.txt\"\n",
    "\n",
    "# Inicializar una lista vacía para almacenar las palabras\n",
    "exclusion_profesiones = []\n",
    "\n",
    "# Abrir el archivo y leer cada línea\n",
    "with open(nombre_archivo, 'r') as archivo:\n",
    "    for linea in archivo:\n",
    "        # Añadir la palabra a la lista, eliminando espacios en blanco y saltos de línea\n",
    "        exclusion_profesiones.append(linea.strip())"
   ]
  },
  {
   "cell_type": "code",
   "execution_count": 79,
   "metadata": {},
   "outputs": [],
   "source": [
    "# Excluir del df las organizaciones que no son de interés\n",
    "\n",
    "# Crear una máscara booleana con 'True' para las filas donde ninguna de las palabras está presente\n",
    "mascara = ~df['Organizacion'].str.contains('|'.join(exclusion_organizacion), case=False, na=False)\n",
    "\n",
    "# Filtrar el DataFrame usando la máscara\n",
    "df = df[mascara]\n"
   ]
  },
  {
   "cell_type": "code",
   "execution_count": 80,
   "metadata": {},
   "outputs": [],
   "source": [
    "# Excluir del df las organizaciones que no son de interés\n",
    "\n",
    "# Crear una máscara booleana con 'True' para las filas donde ninguna de las palabras está presente\n",
    "mascara = ~df['Titulo'].str.contains('|'.join(exclusion_profesiones), case=False, na=False)\n",
    "\n",
    "# Filtrar el DataFrame usando la máscara\n",
    "df = df[mascara]"
   ]
  },
  {
   "cell_type": "code",
   "execution_count": 82,
   "metadata": {},
   "outputs": [],
   "source": [
    "# Selecciona las columnas relevantes y exporta el df filtrado\n",
    "df[[\"Titulo\", \"Organizacion\", \"Descripcion\", \"Link_completo\", \"fecha_limite\"]].to_excel(\"./output/df_filtrado_prueba.xlsx\", index=False, engine='openpyxl')"
   ]
  }
 ],
 "metadata": {
  "kernelspec": {
   "display_name": "base",
   "language": "python",
   "name": "python3"
  },
  "language_info": {
   "codemirror_mode": {
    "name": "ipython",
    "version": 3
   },
   "file_extension": ".py",
   "mimetype": "text/x-python",
   "name": "python",
   "nbconvert_exporter": "python",
   "pygments_lexer": "ipython3",
   "version": "3.11.5"
  }
 },
 "nbformat": 4,
 "nbformat_minor": 2
}
