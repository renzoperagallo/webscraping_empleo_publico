{
 "cells": [
  {
   "cell_type": "code",
   "execution_count": 169,
   "metadata": {},
   "outputs": [],
   "source": [
    "# Abrir archivo excel\n",
    "\n",
    "import pandas as pd"
   ]
  },
  {
   "cell_type": "code",
   "execution_count": 171,
   "metadata": {},
   "outputs": [
    {
     "ename": "PermissionError",
     "evalue": "[Errno 13] Permission denied: './output/df_filtrado_20231208.xlsx'",
     "output_type": "error",
     "traceback": [
      "\u001b[1;31m---------------------------------------------------------------------------\u001b[0m",
      "\u001b[1;31mPermissionError\u001b[0m                           Traceback (most recent call last)",
      "\u001b[1;32mc:\\Users\\renzo\\OneDrive\\Github\\webscraping_empleo_publico\\test_details_downloads.ipynb Cell 2\u001b[0m line \u001b[0;36m1\n\u001b[1;32m----> <a href='vscode-notebook-cell:/c%3A/Users/renzo/OneDrive/Github/webscraping_empleo_publico/test_details_downloads.ipynb#W2sZmlsZQ%3D%3D?line=0'>1</a>\u001b[0m df \u001b[39m=\u001b[39m pd\u001b[39m.\u001b[39mread_excel(\u001b[39m\"\u001b[39m\u001b[39m./output/df_filtrado_20231208.xlsx\u001b[39m\u001b[39m\"\u001b[39m)\n",
      "File \u001b[1;32mc:\\Users\\renzo\\anaconda3\\Lib\\site-packages\\pandas\\io\\excel\\_base.py:478\u001b[0m, in \u001b[0;36mread_excel\u001b[1;34m(io, sheet_name, header, names, index_col, usecols, dtype, engine, converters, true_values, false_values, skiprows, nrows, na_values, keep_default_na, na_filter, verbose, parse_dates, date_parser, date_format, thousands, decimal, comment, skipfooter, storage_options, dtype_backend)\u001b[0m\n\u001b[0;32m    476\u001b[0m \u001b[39mif\u001b[39;00m \u001b[39mnot\u001b[39;00m \u001b[39misinstance\u001b[39m(io, ExcelFile):\n\u001b[0;32m    477\u001b[0m     should_close \u001b[39m=\u001b[39m \u001b[39mTrue\u001b[39;00m\n\u001b[1;32m--> 478\u001b[0m     io \u001b[39m=\u001b[39m ExcelFile(io, storage_options\u001b[39m=\u001b[39mstorage_options, engine\u001b[39m=\u001b[39mengine)\n\u001b[0;32m    479\u001b[0m \u001b[39melif\u001b[39;00m engine \u001b[39mand\u001b[39;00m engine \u001b[39m!=\u001b[39m io\u001b[39m.\u001b[39mengine:\n\u001b[0;32m    480\u001b[0m     \u001b[39mraise\u001b[39;00m \u001b[39mValueError\u001b[39;00m(\n\u001b[0;32m    481\u001b[0m         \u001b[39m\"\u001b[39m\u001b[39mEngine should not be specified when passing \u001b[39m\u001b[39m\"\u001b[39m\n\u001b[0;32m    482\u001b[0m         \u001b[39m\"\u001b[39m\u001b[39man ExcelFile - ExcelFile already has the engine set\u001b[39m\u001b[39m\"\u001b[39m\n\u001b[0;32m    483\u001b[0m     )\n",
      "File \u001b[1;32mc:\\Users\\renzo\\anaconda3\\Lib\\site-packages\\pandas\\io\\excel\\_base.py:1496\u001b[0m, in \u001b[0;36mExcelFile.__init__\u001b[1;34m(self, path_or_buffer, engine, storage_options)\u001b[0m\n\u001b[0;32m   1494\u001b[0m     ext \u001b[39m=\u001b[39m \u001b[39m\"\u001b[39m\u001b[39mxls\u001b[39m\u001b[39m\"\u001b[39m\n\u001b[0;32m   1495\u001b[0m \u001b[39melse\u001b[39;00m:\n\u001b[1;32m-> 1496\u001b[0m     ext \u001b[39m=\u001b[39m inspect_excel_format(\n\u001b[0;32m   1497\u001b[0m         content_or_path\u001b[39m=\u001b[39mpath_or_buffer, storage_options\u001b[39m=\u001b[39mstorage_options\n\u001b[0;32m   1498\u001b[0m     )\n\u001b[0;32m   1499\u001b[0m     \u001b[39mif\u001b[39;00m ext \u001b[39mis\u001b[39;00m \u001b[39mNone\u001b[39;00m:\n\u001b[0;32m   1500\u001b[0m         \u001b[39mraise\u001b[39;00m \u001b[39mValueError\u001b[39;00m(\n\u001b[0;32m   1501\u001b[0m             \u001b[39m\"\u001b[39m\u001b[39mExcel file format cannot be determined, you must specify \u001b[39m\u001b[39m\"\u001b[39m\n\u001b[0;32m   1502\u001b[0m             \u001b[39m\"\u001b[39m\u001b[39man engine manually.\u001b[39m\u001b[39m\"\u001b[39m\n\u001b[0;32m   1503\u001b[0m         )\n",
      "File \u001b[1;32mc:\\Users\\renzo\\anaconda3\\Lib\\site-packages\\pandas\\io\\excel\\_base.py:1371\u001b[0m, in \u001b[0;36minspect_excel_format\u001b[1;34m(content_or_path, storage_options)\u001b[0m\n\u001b[0;32m   1368\u001b[0m \u001b[39mif\u001b[39;00m \u001b[39misinstance\u001b[39m(content_or_path, \u001b[39mbytes\u001b[39m):\n\u001b[0;32m   1369\u001b[0m     content_or_path \u001b[39m=\u001b[39m BytesIO(content_or_path)\n\u001b[1;32m-> 1371\u001b[0m \u001b[39mwith\u001b[39;00m get_handle(\n\u001b[0;32m   1372\u001b[0m     content_or_path, \u001b[39m\"\u001b[39m\u001b[39mrb\u001b[39m\u001b[39m\"\u001b[39m, storage_options\u001b[39m=\u001b[39mstorage_options, is_text\u001b[39m=\u001b[39m\u001b[39mFalse\u001b[39;00m\n\u001b[0;32m   1373\u001b[0m ) \u001b[39mas\u001b[39;00m handle:\n\u001b[0;32m   1374\u001b[0m     stream \u001b[39m=\u001b[39m handle\u001b[39m.\u001b[39mhandle\n\u001b[0;32m   1375\u001b[0m     stream\u001b[39m.\u001b[39mseek(\u001b[39m0\u001b[39m)\n",
      "File \u001b[1;32mc:\\Users\\renzo\\anaconda3\\Lib\\site-packages\\pandas\\io\\common.py:868\u001b[0m, in \u001b[0;36mget_handle\u001b[1;34m(path_or_buf, mode, encoding, compression, memory_map, is_text, errors, storage_options)\u001b[0m\n\u001b[0;32m    859\u001b[0m         handle \u001b[39m=\u001b[39m \u001b[39mopen\u001b[39m(\n\u001b[0;32m    860\u001b[0m             handle,\n\u001b[0;32m    861\u001b[0m             ioargs\u001b[39m.\u001b[39mmode,\n\u001b[1;32m   (...)\u001b[0m\n\u001b[0;32m    864\u001b[0m             newline\u001b[39m=\u001b[39m\u001b[39m\"\u001b[39m\u001b[39m\"\u001b[39m,\n\u001b[0;32m    865\u001b[0m         )\n\u001b[0;32m    866\u001b[0m     \u001b[39melse\u001b[39;00m:\n\u001b[0;32m    867\u001b[0m         \u001b[39m# Binary mode\u001b[39;00m\n\u001b[1;32m--> 868\u001b[0m         handle \u001b[39m=\u001b[39m \u001b[39mopen\u001b[39m(handle, ioargs\u001b[39m.\u001b[39mmode)\n\u001b[0;32m    869\u001b[0m     handles\u001b[39m.\u001b[39mappend(handle)\n\u001b[0;32m    871\u001b[0m \u001b[39m# Convert BytesIO or file objects passed with an encoding\u001b[39;00m\n",
      "\u001b[1;31mPermissionError\u001b[0m: [Errno 13] Permission denied: './output/df_filtrado_20231208.xlsx'"
     ]
    }
   ],
   "source": [
    "df = pd.read_excel(\"./output/df_filtrado_20231208.xlsx\")"
   ]
  },
  {
   "cell_type": "code",
   "execution_count": 7,
   "metadata": {},
   "outputs": [],
   "source": [
    "# Crear columna id\n",
    "df['ID'] = range(1, len(df) + 1)\n"
   ]
  },
  {
   "cell_type": "code",
   "execution_count": 8,
   "metadata": {},
   "outputs": [
    {
     "data": {
      "text/html": [
       "<div>\n",
       "<style scoped>\n",
       "    .dataframe tbody tr th:only-of-type {\n",
       "        vertical-align: middle;\n",
       "    }\n",
       "\n",
       "    .dataframe tbody tr th {\n",
       "        vertical-align: top;\n",
       "    }\n",
       "\n",
       "    .dataframe thead th {\n",
       "        text-align: right;\n",
       "    }\n",
       "</style>\n",
       "<table border=\"1\" class=\"dataframe\">\n",
       "  <thead>\n",
       "    <tr style=\"text-align: right;\">\n",
       "      <th></th>\n",
       "      <th>Titulo</th>\n",
       "      <th>Organizacion</th>\n",
       "      <th>Descripcion</th>\n",
       "      <th>Link_completo</th>\n",
       "      <th>fecha_limite</th>\n",
       "      <th>ID</th>\n",
       "    </tr>\n",
       "  </thead>\n",
       "  <tbody>\n",
       "    <tr>\n",
       "      <th>0</th>\n",
       "      <td>PSICÓLOGOA UNIDAD PSICOLOGÍA CLÍNICA REMPLAZO</td>\n",
       "      <td>Centro Oncológico del Norte</td>\n",
       "      <td>Brindar atención integral y psicológica, con e...</td>\n",
       "      <td>https://www.empleospublicos.cl/pub/convocatori...</td>\n",
       "      <td>15/12/2023</td>\n",
       "      <td>1</td>\n",
       "    </tr>\n",
       "    <tr>\n",
       "      <th>1</th>\n",
       "      <td>APOYO DE PROTECCIÓN ESPECIALIZADA - RESIDENCIA...</td>\n",
       "      <td>Dirección Nacional MEJOR NIÑEZ</td>\n",
       "      <td>Acompañar y ejecutar las actividades socio edu...</td>\n",
       "      <td>https://www.empleospublicos.cl/pub/convocatori...</td>\n",
       "      <td>28/12/2023</td>\n",
       "      <td>2</td>\n",
       "    </tr>\n",
       "    <tr>\n",
       "      <th>2</th>\n",
       "      <td>SALVAVIDAS COMPLEJO DEPORTIVO ALEJO BARRIOS, R...</td>\n",
       "      <td>Instituto Nacional de Deportes de Chile</td>\n",
       "      <td>Garantizar la seguridad de las personas dentro...</td>\n",
       "      <td>https://www.empleospublicos.cl/pub/convocatori...</td>\n",
       "      <td>15/12/2023</td>\n",
       "      <td>3</td>\n",
       "    </tr>\n",
       "    <tr>\n",
       "      <th>3</th>\n",
       "      <td>SUPERVISOR(A) DE MANTENIMIENTO, POLIDEPORTIVO ...</td>\n",
       "      <td>Instituto Nacional de Deportes de Chile</td>\n",
       "      <td>Realizar y supervisar las actividades de mante...</td>\n",
       "      <td>https://www.empleospublicos.cl/pub/convocatori...</td>\n",
       "      <td>14/12/2023</td>\n",
       "      <td>4</td>\n",
       "    </tr>\n",
       "    <tr>\n",
       "      <th>4</th>\n",
       "      <td>ENCARGADO (A) DE LA UNIDAD DE REMUNERACIONES</td>\n",
       "      <td>Servicio Nacional para la Prevención y Rehabil...</td>\n",
       "      <td>Garantizar la implementación efectiva de la po...</td>\n",
       "      <td>https://www.empleospublicos.cl/pub/convocatori...</td>\n",
       "      <td>14/12/2023</td>\n",
       "      <td>5</td>\n",
       "    </tr>\n",
       "  </tbody>\n",
       "</table>\n",
       "</div>"
      ],
      "text/plain": [
       "                                              Titulo  \\\n",
       "0      PSICÓLOGOA UNIDAD PSICOLOGÍA CLÍNICA REMPLAZO   \n",
       "1  APOYO DE PROTECCIÓN ESPECIALIZADA - RESIDENCIA...   \n",
       "2  SALVAVIDAS COMPLEJO DEPORTIVO ALEJO BARRIOS, R...   \n",
       "3  SUPERVISOR(A) DE MANTENIMIENTO, POLIDEPORTIVO ...   \n",
       "4       ENCARGADO (A) DE LA UNIDAD DE REMUNERACIONES   \n",
       "\n",
       "                                        Organizacion  \\\n",
       "0                        Centro Oncológico del Norte   \n",
       "1                     Dirección Nacional MEJOR NIÑEZ   \n",
       "2            Instituto Nacional de Deportes de Chile   \n",
       "3            Instituto Nacional de Deportes de Chile   \n",
       "4  Servicio Nacional para la Prevención y Rehabil...   \n",
       "\n",
       "                                         Descripcion  \\\n",
       "0  Brindar atención integral y psicológica, con e...   \n",
       "1  Acompañar y ejecutar las actividades socio edu...   \n",
       "2  Garantizar la seguridad de las personas dentro...   \n",
       "3  Realizar y supervisar las actividades de mante...   \n",
       "4  Garantizar la implementación efectiva de la po...   \n",
       "\n",
       "                                       Link_completo fecha_limite  ID  \n",
       "0  https://www.empleospublicos.cl/pub/convocatori...   15/12/2023   1  \n",
       "1  https://www.empleospublicos.cl/pub/convocatori...   28/12/2023   2  \n",
       "2  https://www.empleospublicos.cl/pub/convocatori...   15/12/2023   3  \n",
       "3  https://www.empleospublicos.cl/pub/convocatori...   14/12/2023   4  \n",
       "4  https://www.empleospublicos.cl/pub/convocatori...   14/12/2023   5  "
      ]
     },
     "execution_count": 8,
     "metadata": {},
     "output_type": "execute_result"
    }
   ],
   "source": [
    "df.head()"
   ]
  },
  {
   "cell_type": "code",
   "execution_count": 168,
   "metadata": {},
   "outputs": [
    {
     "ename": "KeyError",
     "evalue": "'ID'",
     "output_type": "error",
     "traceback": [
      "\u001b[1;31m---------------------------------------------------------------------------\u001b[0m",
      "\u001b[1;31mKeyError\u001b[0m                                  Traceback (most recent call last)",
      "File \u001b[1;32mc:\\Users\\renzo\\anaconda3\\Lib\\site-packages\\pandas\\core\\indexes\\base.py:3653\u001b[0m, in \u001b[0;36mIndex.get_loc\u001b[1;34m(self, key)\u001b[0m\n\u001b[0;32m   3652\u001b[0m \u001b[39mtry\u001b[39;00m:\n\u001b[1;32m-> 3653\u001b[0m     \u001b[39mreturn\u001b[39;00m \u001b[39mself\u001b[39m\u001b[39m.\u001b[39m_engine\u001b[39m.\u001b[39mget_loc(casted_key)\n\u001b[0;32m   3654\u001b[0m \u001b[39mexcept\u001b[39;00m \u001b[39mKeyError\u001b[39;00m \u001b[39mas\u001b[39;00m err:\n",
      "File \u001b[1;32mc:\\Users\\renzo\\anaconda3\\Lib\\site-packages\\pandas\\_libs\\index.pyx:147\u001b[0m, in \u001b[0;36mpandas._libs.index.IndexEngine.get_loc\u001b[1;34m()\u001b[0m\n",
      "File \u001b[1;32mc:\\Users\\renzo\\anaconda3\\Lib\\site-packages\\pandas\\_libs\\index.pyx:176\u001b[0m, in \u001b[0;36mpandas._libs.index.IndexEngine.get_loc\u001b[1;34m()\u001b[0m\n",
      "File \u001b[1;32mpandas\\_libs\\hashtable_class_helper.pxi:7080\u001b[0m, in \u001b[0;36mpandas._libs.hashtable.PyObjectHashTable.get_item\u001b[1;34m()\u001b[0m\n",
      "File \u001b[1;32mpandas\\_libs\\hashtable_class_helper.pxi:7088\u001b[0m, in \u001b[0;36mpandas._libs.hashtable.PyObjectHashTable.get_item\u001b[1;34m()\u001b[0m\n",
      "\u001b[1;31mKeyError\u001b[0m: 'ID'",
      "\nThe above exception was the direct cause of the following exception:\n",
      "\u001b[1;31mKeyError\u001b[0m                                  Traceback (most recent call last)",
      "\u001b[1;32mc:\\Users\\renzo\\OneDrive\\Github\\webscraping_empleo_publico\\test_details_downloads.ipynb Cell 5\u001b[0m line \u001b[0;36m1\n\u001b[1;32m----> <a href='vscode-notebook-cell:/c%3A/Users/renzo/OneDrive/Github/webscraping_empleo_publico/test_details_downloads.ipynb#W5sZmlsZQ%3D%3D?line=0'>1</a>\u001b[0m \u001b[39mid\u001b[39m \u001b[39m=\u001b[39m df[\u001b[39m\"\u001b[39m\u001b[39mID\u001b[39m\u001b[39m\"\u001b[39m]\u001b[39m.\u001b[39mvalues\n\u001b[0;32m      <a href='vscode-notebook-cell:/c%3A/Users/renzo/OneDrive/Github/webscraping_empleo_publico/test_details_downloads.ipynb#W5sZmlsZQ%3D%3D?line=1'>2</a>\u001b[0m enlaces \u001b[39m=\u001b[39m df[\u001b[39m\"\u001b[39m\u001b[39mLink_completo\u001b[39m\u001b[39m\"\u001b[39m]\u001b[39m.\u001b[39mvalues\n",
      "File \u001b[1;32mc:\\Users\\renzo\\anaconda3\\Lib\\site-packages\\pandas\\core\\frame.py:3761\u001b[0m, in \u001b[0;36mDataFrame.__getitem__\u001b[1;34m(self, key)\u001b[0m\n\u001b[0;32m   3759\u001b[0m \u001b[39mif\u001b[39;00m \u001b[39mself\u001b[39m\u001b[39m.\u001b[39mcolumns\u001b[39m.\u001b[39mnlevels \u001b[39m>\u001b[39m \u001b[39m1\u001b[39m:\n\u001b[0;32m   3760\u001b[0m     \u001b[39mreturn\u001b[39;00m \u001b[39mself\u001b[39m\u001b[39m.\u001b[39m_getitem_multilevel(key)\n\u001b[1;32m-> 3761\u001b[0m indexer \u001b[39m=\u001b[39m \u001b[39mself\u001b[39m\u001b[39m.\u001b[39mcolumns\u001b[39m.\u001b[39mget_loc(key)\n\u001b[0;32m   3762\u001b[0m \u001b[39mif\u001b[39;00m is_integer(indexer):\n\u001b[0;32m   3763\u001b[0m     indexer \u001b[39m=\u001b[39m [indexer]\n",
      "File \u001b[1;32mc:\\Users\\renzo\\anaconda3\\Lib\\site-packages\\pandas\\core\\indexes\\base.py:3655\u001b[0m, in \u001b[0;36mIndex.get_loc\u001b[1;34m(self, key)\u001b[0m\n\u001b[0;32m   3653\u001b[0m     \u001b[39mreturn\u001b[39;00m \u001b[39mself\u001b[39m\u001b[39m.\u001b[39m_engine\u001b[39m.\u001b[39mget_loc(casted_key)\n\u001b[0;32m   3654\u001b[0m \u001b[39mexcept\u001b[39;00m \u001b[39mKeyError\u001b[39;00m \u001b[39mas\u001b[39;00m err:\n\u001b[1;32m-> 3655\u001b[0m     \u001b[39mraise\u001b[39;00m \u001b[39mKeyError\u001b[39;00m(key) \u001b[39mfrom\u001b[39;00m \u001b[39merr\u001b[39;00m\n\u001b[0;32m   3656\u001b[0m \u001b[39mexcept\u001b[39;00m \u001b[39mTypeError\u001b[39;00m:\n\u001b[0;32m   3657\u001b[0m     \u001b[39m# If we have a listlike key, _check_indexing_error will raise\u001b[39;00m\n\u001b[0;32m   3658\u001b[0m     \u001b[39m#  InvalidIndexError. Otherwise we fall through and re-raise\u001b[39;00m\n\u001b[0;32m   3659\u001b[0m     \u001b[39m#  the TypeError.\u001b[39;00m\n\u001b[0;32m   3660\u001b[0m     \u001b[39mself\u001b[39m\u001b[39m.\u001b[39m_check_indexing_error(key)\n",
      "\u001b[1;31mKeyError\u001b[0m: 'ID'"
     ]
    }
   ],
   "source": [
    "id = df[\"ID\"].values\n",
    "enlaces = df[\"Link_completo\"].values"
   ]
  },
  {
   "cell_type": "code",
   "execution_count": 10,
   "metadata": {},
   "outputs": [],
   "source": [
    "# Importar libreria para descargar html\n",
    "import requests"
   ]
  },
  {
   "cell_type": "code",
   "execution_count": 12,
   "metadata": {},
   "outputs": [],
   "source": [
    "# Descargar documentos html desde los enlaces\n",
    "\n",
    "for i, url in zip(id, enlaces):\n",
    "   # Realizar la solicitud HTTP GET\n",
    "    response = requests.get(url)\n",
    "    \n",
    "    nombre_html_descargado  = \"./processing/\" + str(i) +\".html\"\n",
    "\n",
    "    # Verificar que la solicitud fue exitosa\n",
    "    if response.status_code == 200:\n",
    "    # Guardar el contenido en un archivo\n",
    "        with open(nombre_html_descargado, 'w', encoding='utf-8') as file:\n",
    "            file.write(response.text)\n",
    "    else:\n",
    "        print(f'Error al descargar el archivo: {response.status_code}')"
   ]
  },
  {
   "cell_type": "code",
   "execution_count": 13,
   "metadata": {},
   "outputs": [],
   "source": [
    "#  Obtener datos desde el html\n",
    "# Librerias\n",
    "from bs4 import BeautifulSoup\n",
    "import pandas as pd"
   ]
  },
  {
   "cell_type": "code",
   "execution_count": 14,
   "metadata": {},
   "outputs": [],
   "source": [
    "nombre_html_descargado = \"./processing/1.html\""
   ]
  },
  {
   "cell_type": "code",
   "execution_count": 15,
   "metadata": {},
   "outputs": [],
   "source": [
    "nombre_html_descargado = \"./processing/51.html\""
   ]
  },
  {
   "cell_type": "code",
   "execution_count": 164,
   "metadata": {},
   "outputs": [
    {
     "name": "stdout",
     "output_type": "stream",
     "text": [
      "1\n",
      "2\n",
      "3\n",
      "4\n",
      "5\n",
      "6\n",
      "7\n",
      "8\n",
      "9\n",
      "10\n",
      "11\n",
      "12\n",
      "13\n",
      "14\n",
      "15\n",
      "16\n",
      "17\n",
      "18\n",
      "19\n",
      "20\n",
      "21\n",
      "22\n",
      "23\n",
      "24\n",
      "25\n",
      "26\n",
      "27\n",
      "28\n",
      "29\n",
      "30\n",
      "31\n",
      "32\n",
      "33\n",
      "34\n",
      "35\n",
      "36\n",
      "37\n",
      "38\n",
      "39\n",
      "40\n",
      "41\n",
      "42\n",
      "43\n",
      "44\n",
      "45\n",
      "46\n",
      "47\n",
      "48\n",
      "49\n",
      "50\n",
      "51\n",
      "52\n",
      "53\n",
      "54\n",
      "55\n",
      "56\n",
      "57\n",
      "58\n",
      "59\n",
      "60\n",
      "61\n",
      "62\n",
      "63\n",
      "64\n",
      "65\n",
      "66\n",
      "67\n",
      "68\n",
      "69\n"
     ]
    }
   ],
   "source": [
    "for i in id:\n",
    "    print(i)"
   ]
  },
  {
   "cell_type": "code",
   "execution_count": 165,
   "metadata": {},
   "outputs": [
    {
     "ename": "IndexError",
     "evalue": "list index out of range",
     "output_type": "error",
     "traceback": [
      "\u001b[1;31m---------------------------------------------------------------------------\u001b[0m",
      "\u001b[1;31mIndexError\u001b[0m                                Traceback (most recent call last)",
      "\u001b[1;32mc:\\Users\\renzo\\OneDrive\\Github\\webscraping_empleo_publico\\test_details_downloads.ipynb Cell 12\u001b[0m line \u001b[0;36m2\n\u001b[0;32m     <a href='vscode-notebook-cell:/c%3A/Users/renzo/OneDrive/Github/webscraping_empleo_publico/test_details_downloads.ipynb#X45sZmlsZQ%3D%3D?line=19'>20</a>\u001b[0m \u001b[39m# Recuperar la renta\u001b[39;00m\n\u001b[0;32m     <a href='vscode-notebook-cell:/c%3A/Users/renzo/OneDrive/Github/webscraping_empleo_publico/test_details_downloads.ipynb#X45sZmlsZQ%3D%3D?line=20'>21</a>\u001b[0m \u001b[39mimport\u001b[39;00m \u001b[39mre\u001b[39;00m\n\u001b[1;32m---> <a href='vscode-notebook-cell:/c%3A/Users/renzo/OneDrive/Github/webscraping_empleo_publico/test_details_downloads.ipynb#X45sZmlsZQ%3D%3D?line=21'>22</a>\u001b[0m valor_renta \u001b[39m=\u001b[39m span[\u001b[39m0\u001b[39m]\u001b[39m.\u001b[39mget_text()\n\u001b[0;32m     <a href='vscode-notebook-cell:/c%3A/Users/renzo/OneDrive/Github/webscraping_empleo_publico/test_details_downloads.ipynb#X45sZmlsZQ%3D%3D?line=22'>23</a>\u001b[0m \u001b[39m# Utilizar expresión regular para encontrar secuencias de dígitos y puntos\u001b[39;00m\n\u001b[0;32m     <a href='vscode-notebook-cell:/c%3A/Users/renzo/OneDrive/Github/webscraping_empleo_publico/test_details_downloads.ipynb#X45sZmlsZQ%3D%3D?line=23'>24</a>\u001b[0m valor_renta \u001b[39m=\u001b[39m re\u001b[39m.\u001b[39msearch(\u001b[39mr\u001b[39m\u001b[39m'\u001b[39m\u001b[39m\\\u001b[39m\u001b[39md[\u001b[39m\u001b[39m\\\u001b[39m\u001b[39md.]*\u001b[39m\u001b[39m'\u001b[39m, valor_renta)\n",
      "\u001b[1;31mIndexError\u001b[0m: list index out of range"
     ]
    }
   ],
   "source": [
    "# Agregar toda la data    \n",
    "data = []\n",
    "    \n",
    "for i in id:\n",
    "\n",
    "    # Obtener las cadenas\n",
    "\n",
    "    #  Definir nombre del archivo html\n",
    "    \n",
    "    nombre_html_descargado = \"./processing/\" + str(i) + \".html\"\n",
    "    # Abrir archivo html\n",
    "    with open(nombre_html_descargado, \"r\", encoding=\"utf-8\") as file:\n",
    "        soup = BeautifulSoup(file, \"html.parser\")\n",
    "    # Identificar los elementos que tienen la etiqueta id deseadas\n",
    "    span = soup.find_all(\"span\", {\"id\": \"lblRenta\"})\n",
    "    span_1 = soup.find_all(\"span\", {\"id\": \"lblAvisoTrabajoDatos\"}) \n",
    "    span_2 = soup.find_all(\"span\", {\"id\": \"lblFormacion\"}) \n",
    "    span_3 = soup.find_all(\"span\", {\"id\": \"lblFunciones\"})\n",
    "\n",
    "    # Recuperar la renta\n",
    "    import re\n",
    "    valor_renta = span[0].get_text()\n",
    "    # Utilizar expresión regular para encontrar secuencias de dígitos y puntos\n",
    "    valor_renta = re.search(r'\\d[\\d.]*', valor_renta)\n",
    "\n",
    "    # Extraer el valor encontrado\n",
    "    if valor_renta:\n",
    "        valor_renta = valor_renta.group()\n",
    "        \n",
    "    # Recuperar la institución\n",
    "    for element in span_1:\n",
    "        h3_element = element.find('h3')\n",
    "        if h3_element:\n",
    "            print(h3_element.get_text())\n",
    "        valor_institucion = element.find('p')\n",
    "\n",
    "    # Recuperar requisitos\n",
    "    for element in span_2:\n",
    "        h3_element = element.find('h3')\n",
    "        if h3_element:\n",
    "            print(h3_element.get_text())\n",
    "        valor_requisitos = element.find('p')\n",
    "        \n",
    "    for element in span_3:\n",
    "        h3_element = element.find('h3')\n",
    "        if h3_element:\n",
    "            print(h3_element.get_text())\n",
    "        valor_objetivos = element.find('p') \n",
    "        \n",
    "\n",
    "    # Append extracted data to the list\n",
    "    data.append({\n",
    "        \"id\": i,\n",
    "        \"Renta bruta\": valor_renta,\n",
    "        \"Institucion\": valor_institucion.get_text(strip=True),\n",
    "        \"Objetivos del cargo\": valor_objetivos.get_text(strip=True),\n",
    "        \"Requisitos\": valor_requisitos.get_text(strip=True)\n",
    "    })\n",
    "    \n",
    "    \n"
   ]
  },
  {
   "cell_type": "code",
   "execution_count": null,
   "metadata": {},
   "outputs": [],
   "source": [
    "# Transformar a df\n",
    "df = pd.DataFrame(data)\n",
    "\n",
    "# Guardar df\n",
    "    "
   ]
  },
  {
   "cell_type": "code",
   "execution_count": 131,
   "metadata": {},
   "outputs": [],
   "source": [
    "# Obtener las cadenas\n",
    "\n",
    "# Abrir archivo html\n",
    "with open(nombre_html_descargado, \"r\", encoding=\"utf-8\") as file:\n",
    "    soup = BeautifulSoup(file, \"html.parser\")\n",
    "# Identificar los elementos que tienen la etiqueta id deseadas\n",
    "span = soup.find_all(\"span\", {\"id\": \"lblRenta\"})\n",
    "span_1 = soup.find_all(\"span\", {\"id\": \"lblAvisoTrabajoDatos\"}) \n",
    "span_2 = soup.find_all(\"span\", {\"id\": \"lblFormacion\"}) \n",
    "span_3 = soup.find_all(\"span\", {\"id\": \"lblFunciones\"})\n",
    "\n",
    "# Recuperar la renta\n",
    "import re\n",
    "valor_renta = span[0].get_text()\n",
    "# Utilizar expresión regular para encontrar secuencias de dígitos y puntos\n",
    "valor_renta = re.search(r'\\d[\\d.]*', valor_renta)\n",
    "\n",
    "# Extraer el valor encontrado\n",
    "if valor_renta:\n",
    "    valor_renta = valor_renta.group()\n",
    "    \n",
    "# Recuperar la institución\n",
    "for element in span_1:\n",
    "    h3_element = element.find('h3')\n",
    "    if h3_element:\n",
    "        print(h3_element.get_text())\n",
    "    valor_institucion = element.find('p')\n",
    "\n",
    "# Recuperar requisitos\n",
    "for element in span_2:\n",
    "    h3_element = element.find('h3')\n",
    "    if h3_element:\n",
    "        print(h3_element.get_text())\n",
    "    valor_requisitos = element.find('p')\n",
    "    \n",
    "for element in span_3:\n",
    "    h3_element = element.find('h3')\n",
    "    if h3_element:\n",
    "        print(h3_element.get_text())\n",
    "    valor_objetivos = element.find('p') \n",
    "    \n",
    "# Agregar toda la data    \n",
    "data = []\n",
    " # Append extracted data to the list\n",
    "data.append({\n",
    "    \"Renta bruta\": valor_renta,\n",
    "    \"Institucion\": valor_institucion.get_text(strip=True),\n",
    "    \"Objetivos del cargo\": valor_objetivos.get_text(strip=True),\n",
    "    \"Requisitos\": valor_requisitos.get_text(strip=True)\n",
    "})\n",
    "# Transformar a df\n",
    "df = pd.DataFrame(data)"
   ]
  },
  {
   "cell_type": "code",
   "execution_count": 118,
   "metadata": {},
   "outputs": [
    {
     "data": {
      "text/plain": [
       "<re.Match object; span=(11, 20), match='3.255.364'>"
      ]
     },
     "execution_count": 118,
     "metadata": {},
     "output_type": "execute_result"
    }
   ],
   "source": [
    "\n",
    "import re\n",
    "# Obtener título \n",
    "titulo = span[0].select(\"h3\")[0].get_text(strip=True)\n",
    "valor_renta = span[0].get_text()\n",
    "# Utilizar expresión regular para encontrar secuencias de dígitos y puntos\n",
    "valor_renta = re.search(r'\\d[\\d.]*', valor_renta)\n",
    "valor_renta"
   ]
  }
 ],
 "metadata": {
  "kernelspec": {
   "display_name": "base",
   "language": "python",
   "name": "python3"
  },
  "language_info": {
   "codemirror_mode": {
    "name": "ipython",
    "version": 3
   },
   "file_extension": ".py",
   "mimetype": "text/x-python",
   "name": "python",
   "nbconvert_exporter": "python",
   "pygments_lexer": "ipython3",
   "version": "3.11.5"
  }
 },
 "nbformat": 4,
 "nbformat_minor": 2
}
