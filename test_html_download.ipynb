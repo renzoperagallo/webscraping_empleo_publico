{
 "cells": [
  {
   "cell_type": "markdown",
   "metadata": {},
   "source": [
    "# Descargar URL"
   ]
  },
  {
   "cell_type": "code",
   "execution_count": 12,
   "metadata": {},
   "outputs": [],
   "source": [
    "# Obtener fecha y hora para dar nombre a los archivos\n",
    "from datetime import datetime\n",
    "# Obtener la hora actual del sistema\n",
    "fecha_actual = datetime.now()\n",
    "# Convertir la hora a un formato de string\n",
    "fecha_actual = fecha_actual.strftime(\"%Y%m%d\")"
   ]
  },
  {
   "cell_type": "code",
   "execution_count": 13,
   "metadata": {},
   "outputs": [],
   "source": [
    "#  Nombrar html descargado\n",
    "nombre_html_descargado = './output/empleos_publicos_' + fecha_actual + '.html'"
   ]
  },
  {
   "cell_type": "code",
   "execution_count": 14,
   "metadata": {},
   "outputs": [
    {
     "name": "stdout",
     "output_type": "stream",
     "text": [
      "Se cargó la url de busqueda de trabajos profesionales.\n"
     ]
    }
   ],
   "source": [
    "# Obtener URL\n",
    "\n",
    "respuesta = input(\"¿Quieres utilizar el criterio de busqueda profesionales o  introducir una url alternativa? \\n (1) Buscar empleos profesionales. \\n (2) Introducir url.\")\n",
    "\n",
    "if respuesta == '1':\n",
    "    url = 'https://www.empleospublicos.cl/pub/convocatorias/convocatorias.aspx?cargos=Profesionales&i=2'\n",
    "    print(\"Se cargó la url de busqueda de trabajos profesionales.\")\n",
    "else:\n",
    "    url = input(\"Introducir código html:\")\n",
    "    print(\"Se cargó la url alternativa.\")\n"
   ]
  },
  {
   "cell_type": "code",
   "execution_count": 15,
   "metadata": {},
   "outputs": [],
   "source": [
    "# Descargar archivo html\n",
    "\n",
    "import requests\n",
    "\n",
    "# Realizar la solicitud HTTP GET\n",
    "response = requests.get(url)\n",
    "\n",
    "# Verificar que la solicitud fue exitosa\n",
    "if response.status_code == 200:\n",
    "    # Guardar el contenido en un archivo\n",
    "    with open(nombre_html_descargado, 'w', encoding='utf-8') as file:\n",
    "        file.write(response.text)\n",
    "else:\n",
    "    print(f'Error al descargar el archivo: {response.status_code}')\n"
   ]
  },
  {
   "cell_type": "markdown",
   "metadata": {},
   "source": [
    "#  Obtener datos desde el html"
   ]
  },
  {
   "cell_type": "code",
   "execution_count": 16,
   "metadata": {},
   "outputs": [],
   "source": [
    "# Librerias\n",
    "from bs4 import BeautifulSoup\n",
    "import pandas as pd"
   ]
  },
  {
   "cell_type": "code",
   "execution_count": 19,
   "metadata": {},
   "outputs": [],
   "source": [
    "# Abrir archivo html\n",
    "with open(nombre_html_descargado, \"r\", encoding=\"utf-8\") as file:\n",
    "    soup = BeautifulSoup(file, \"html.parser\")"
   ]
  },
  {
   "cell_type": "code",
   "execution_count": 20,
   "metadata": {},
   "outputs": [],
   "source": [
    "# Identificar los elementos que tienen la etiqueta class 'caja row primerEmpleo'\n",
    "divs = soup.find_all(\"div\", {\"class\": \"caja row primerEmpleo\"})"
   ]
  },
  {
   "cell_type": "code",
   "execution_count": 21,
   "metadata": {},
   "outputs": [],
   "source": [
    "# Extraer la data\n",
    "data = []\n",
    "for div in divs:\n",
    "    # Extract job title\n",
    "    job_title = div.find(\"div\", {\"id\": \"bx_titulos\"})\n",
    "    job_title = job_title.get_text(strip=True) if job_title else None\n",
    "\n",
    "    # Extract organization\n",
    "    organization = div.find(\"div\", {\"id\": \"bx_resumen\"}).find(\"strong\")\n",
    "    organization = organization.get_text(strip=True) if organization else None\n",
    "\n",
    "    # Extract job description\n",
    "    description = div.find(\"div\", {\"id\": \"bx_resumen\"})\n",
    "    if description:\n",
    "        # Remove strong tag to isolate the description\n",
    "        if description.strong:\n",
    "            description.strong.decompose()\n",
    "        description = description.get_text(strip=True, separator=\"\\n\")\n",
    "\n",
    "    # Extract application deadline\n",
    "    deadline = div.find(\"div\", {\"id\": \"bx_resumen\"}).find(\"em\")\n",
    "    deadline = deadline.get_text(strip=True) if deadline else None\n",
    "\n",
    "    # Extract link to job posting\n",
    "    link = div.find(\"a\", {\"class\": \"btnverficha\"})\n",
    "    link = link['href'] if link else None\n",
    "\n",
    "    # Append extracted data to the list\n",
    "    data.append({\n",
    "        \"Titulo\": job_title,\n",
    "        \"Organizacion\": organization,\n",
    "        \"Descripcion\": description,\n",
    "        \"Deadline\": deadline,\n",
    "        \"Link\": link\n",
    "    })\n"
   ]
  },
  {
   "cell_type": "code",
   "execution_count": 22,
   "metadata": {},
   "outputs": [],
   "source": [
    "# Transformar en un pd.df\n",
    "df = pd.DataFrame(data)"
   ]
  },
  {
   "cell_type": "code",
   "execution_count": 23,
   "metadata": {},
   "outputs": [],
   "source": [
    "# Crea el link completo e indica la fecha límite\n",
    "df['Link_completo'] = 'https://www.empleospublicos.cl/pub/convocatorias/' + df['Link']\n",
    "df['fecha_limite'] = df['Deadline'].str.slice(-10)"
   ]
  },
  {
   "cell_type": "code",
   "execution_count": 24,
   "metadata": {},
   "outputs": [],
   "source": [
    "# Exporta la convocatoria\n",
    "nombre_df_completo = \"./output/df_completo_\" + fecha_actual + \".xlsx\"\n",
    "df.to_excel(nombre_df_completo, index=False, engine='openpyxl')"
   ]
  },
  {
   "cell_type": "code",
   "execution_count": 25,
   "metadata": {},
   "outputs": [
    {
     "name": "stdout",
     "output_type": "stream",
     "text": [
      "['hospital', 'judicial', 'asistencial', 'salud', 'contabilidad', 'finanzas', 'primaria', 'smu', 'mejor niñez']\n"
     ]
    }
   ],
   "source": [
    "# Definir el nombre del archivo de texto\n",
    "nombre_archivo = \"./input/exclusion_organizacion.txt\"\n",
    "\n",
    "# Inicializar una lista vacía para almacenar las palabras\n",
    "exclusion_organizacion = []\n",
    "\n",
    "# Abrir el archivo y leer cada línea\n",
    "with open(nombre_archivo, 'r') as archivo:\n",
    "    for linea in archivo:\n",
    "        # Añadir la palabra a la lista, eliminando espacios en blanco y saltos de línea\n",
    "        exclusion_organizacion.append(linea.strip())\n",
    "\n",
    "# Ahora 'palabras' es una lista que contiene todas las palabras del archivo\n",
    "print(exclusion_organizacion)"
   ]
  },
  {
   "cell_type": "code",
   "execution_count": 26,
   "metadata": {},
   "outputs": [],
   "source": [
    "# Crear un vector con todos los textos para excluir del título de la oferta laboral. \n",
    "\n",
    "# Definir el nombre del archivo de texto\n",
    "nombre_archivo = \"./input/exclusion_profesiones.txt\"\n",
    "\n",
    "# Inicializar una lista vacía para almacenar las palabras\n",
    "exclusion_profesiones = []\n",
    "\n",
    "# Abrir el archivo y leer cada línea\n",
    "with open(nombre_archivo, 'r') as archivo:\n",
    "    for linea in archivo:\n",
    "        # Añadir la palabra a la lista, eliminando espacios en blanco y saltos de línea\n",
    "        exclusion_profesiones.append(linea.strip())"
   ]
  },
  {
   "cell_type": "code",
   "execution_count": 27,
   "metadata": {},
   "outputs": [],
   "source": [
    "# Excluir del df las organizaciones que no son de interés\n",
    "\n",
    "# Crear una máscara booleana con 'True' para las filas donde ninguna de las palabras está presente\n",
    "mascara = ~df['Organizacion'].str.contains('|'.join(exclusion_organizacion), case=False, na=False)\n",
    "\n",
    "# Filtrar el DataFrame usando la máscara\n",
    "df = df[mascara]\n"
   ]
  },
  {
   "cell_type": "code",
   "execution_count": 29,
   "metadata": {},
   "outputs": [],
   "source": [
    "# Excluir del df las organizaciones que no son de interés\n",
    "\n",
    "# Crear una máscara booleana con 'True' para las filas donde ninguna de las palabras está presente\n",
    "mascara = ~df['Titulo'].str.contains('|'.join(exclusion_profesiones), case=False, na=False)\n",
    "\n",
    "# Filtrar el DataFrame usando la máscara\n",
    "df = df[mascara]"
   ]
  },
  {
   "cell_type": "code",
   "execution_count": 30,
   "metadata": {},
   "outputs": [],
   "source": [
    "# Selecciona las columnas relevantes y exporta el df filtrado\n",
    "nombre_df_filtrado = \"./output/df_filtrado_\" + fecha_actual + \".xlsx\"\n",
    "df[[\"Titulo\", \"Organizacion\", \"Descripcion\", \"Link_completo\", \"fecha_limite\"]].to_excel(nombre_df_filtrado, index=False, engine='openpyxl')"
   ]
  }
 ],
 "metadata": {
  "kernelspec": {
   "display_name": "base",
   "language": "python",
   "name": "python3"
  },
  "language_info": {
   "codemirror_mode": {
    "name": "ipython",
    "version": 3
   },
   "file_extension": ".py",
   "mimetype": "text/x-python",
   "name": "python",
   "nbconvert_exporter": "python",
   "pygments_lexer": "ipython3",
   "version": "3.11.5"
  }
 },
 "nbformat": 4,
 "nbformat_minor": 2
}
